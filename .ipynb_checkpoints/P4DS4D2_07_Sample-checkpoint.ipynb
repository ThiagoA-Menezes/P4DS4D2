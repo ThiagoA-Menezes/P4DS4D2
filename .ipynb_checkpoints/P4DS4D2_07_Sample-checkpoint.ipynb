{
 "cells": [
  {
   "attachments": {},
   "cell_type": "markdown",
   "id": "55892b61",
   "metadata": {},
   "source": [
    "Estou colocando os exercícios que estou realizando através da leitura do Livro Python para leigos.\n",
    "\n",
    "Muitas vezes, vocês perceberão que eu estou repetindo a importação de bibliotecas, estou criando esse repositório dessa forma, imaginando uma consulta futura"
   ]
  },
  {
   "attachments": {},
   "cell_type": "markdown",
   "id": "af64e73c",
   "metadata": {},
   "source": [
    "# Criando Variáveis Categoricas"
   ]
  },
  {
   "cell_type": "code",
   "execution_count": 6,
   "metadata": {},
   "outputs": [
    {
     "name": "stdout",
     "output_type": "stream",
     "text": [
      "0     Blue\n",
      "1      Red\n",
      "2    Green\n",
      "dtype: category\n",
      "Categories (3, object): ['Blue', 'Green', 'Red']\n",
      "--------------------------------------------------\n",
      "0      NaN\n",
      "1    Green\n",
      "2      Red\n",
      "3     Blue\n",
      "4      NaN\n",
      "dtype: category\n",
      "Categories (3, object): ['Blue', 'Green', 'Red']\n",
      "--------------------------------------------------\n",
      "0    True\n",
      "4    True\n",
      "dtype: bool\n"
     ]
    }
   ],
   "source": [
    "import pandas as pd\n",
    "\n",
    "car_colors = pd.Series(['Blue', 'Red', 'Green'], dtype = 'category')\n",
    "\n",
    "car_data = pd.Series (\n",
    "    pd.Categorical(\n",
    "        ['Yellow', 'Green', 'Red', 'Blue', 'Purple'], \n",
    "        categories=car_colors, ordered=False\n",
    "    )\n",
    ")\n",
    "\n",
    "find_entries = pd.isnull(car_data)\n",
    "\n",
    "print(car_colors)\n",
    "print('-'*50)\n",
    "print(car_data)\n",
    "print('-'*50)\n",
    "print(find_entries[find_entries == True])"
   ]
  },
  {
   "attachments": {},
   "cell_type": "markdown",
   "id": "7d5ae9b4",
   "metadata": {},
   "source": [
    "# Combinando Níveis"
   ]
  },
  {
   "cell_type": "code",
   "execution_count": 7,
   "id": "d9ccb4ae",
   "metadata": {},
   "outputs": [
    {
     "name": "stdout",
     "output_type": "stream",
     "text": [
      "2    Red\n",
      "4    Red\n",
      "dtype: category\n",
      "Categories (4, object): ['Blue', 'Red', 'Green', 'Blue_Red']\n",
      "--------------------------------------------------\n",
      "0    Blue_Red\n",
      "1       Green\n",
      "2    Blue_Red\n",
      "3       Green\n",
      "4    Blue_Red\n",
      "5       Green\n",
      "dtype: category\n",
      "Categories (2, object): ['Green', 'Blue_Red']\n"
     ]
    }
   ],
   "source": [
    "import pandas as pd\n",
    "\n",
    "car_colors = pd.Series(['Blue', 'Red', 'Green'],\n",
    "                       dtype = 'category')\n",
    "\n",
    "car_data = pd.Series(\n",
    "    pd.Categorical(\n",
    "        ['Blue', 'Green', 'Red', 'Green', 'Red', 'Green'],\n",
    "        categories=car_colors, ordered=False\n",
    "    )\n",
    ")\n",
    "\n",
    "car_data = car_data.cat.set_categories([\"Blue\", \"Red\", \"Green\", \"Blue_Red\"])\n",
    "\n",
    "print(car_data.loc[car_data.isin([\"Red\"])])\n",
    "car_data.loc[car_data.isin(['Red'])] = 'Blue_Red'\n",
    "car_data.loc[car_data.isin(['Blue'])] = 'Blue_Red'\n",
    "\n",
    "car_data = car_data.cat.set_categories(\n",
    "    [\"Green\", \"Blue_Red\"]\n",
    ")\n",
    "\n",
    "print('-'*50)\n",
    "print(car_data)"
   ]
  },
  {
   "attachments": {},
   "cell_type": "markdown",
   "id": "c80d6c52",
   "metadata": {},
   "source": [
    "# Encontrando os dados Ausentes "
   ]
  },
  {
   "cell_type": "code",
   "execution_count": 8,
   "id": "e9dbf072",
   "metadata": {},
   "outputs": [
    {
     "name": "stdout",
     "output_type": "stream",
     "text": [
      "0    False\n",
      "1    False\n",
      "2    False\n",
      "3     True\n",
      "4    False\n",
      "5    False\n",
      "6     True\n",
      "dtype: bool\n",
      "--------------------------------------------------\n",
      "3   NaN\n",
      "6   NaN\n",
      "dtype: float64\n"
     ]
    }
   ],
   "source": [
    "import pandas as pd\n",
    "import numpy as np\n",
    "\n",
    "s = pd.Series([1, 2, 3, np.NAN, 5, 6, None])\n",
    "\n",
    "print(s.isnull())\n",
    "\n",
    "print('-'*50)\n",
    "print(s[s.isnull()])"
   ]
  },
  {
   "attachments": {},
   "cell_type": "markdown",
   "id": "208b7265",
   "metadata": {},
   "source": [
    "# Inserindo os dados Ausentes"
   ]
  },
  {
   "cell_type": "code",
   "execution_count": 14,
   "id": "b7ceb0b9",
   "metadata": {},
   "outputs": [
    {
     "ename": "ImportError",
     "evalue": "cannot import name 'Imputer' from 'sklearn.preprocessing' (c:\\ProgramData\\anaconda3\\lib\\site-packages\\sklearn\\preprocessing\\__init__.py)",
     "output_type": "error",
     "traceback": [
      "\u001b[1;31m---------------------------------------------------------------------------\u001b[0m",
      "\u001b[1;31mImportError\u001b[0m                               Traceback (most recent call last)",
      "Cell \u001b[1;32mIn[14], line 3\u001b[0m\n\u001b[0;32m      1\u001b[0m \u001b[39mimport\u001b[39;00m \u001b[39mpandas\u001b[39;00m \u001b[39mas\u001b[39;00m \u001b[39mpd\u001b[39;00m\n\u001b[0;32m      2\u001b[0m \u001b[39mimport\u001b[39;00m \u001b[39mnumpy\u001b[39;00m \u001b[39mas\u001b[39;00m \u001b[39mnp\u001b[39;00m\n\u001b[1;32m----> 3\u001b[0m \u001b[39mfrom\u001b[39;00m \u001b[39msklearn\u001b[39;00m\u001b[39m.\u001b[39;00m\u001b[39mpreprocessing\u001b[39;00m \u001b[39mimport\u001b[39;00m Imputer\n\u001b[0;32m      5\u001b[0m s \u001b[39m=\u001b[39m [[\u001b[39m1\u001b[39m, \u001b[39m2\u001b[39m, \u001b[39m3\u001b[39m, np\u001b[39m.\u001b[39mNAN, \u001b[39m5\u001b[39m, \u001b[39m6\u001b[39m, \u001b[39mNone\u001b[39;00m]]\n\u001b[0;32m      7\u001b[0m imp \u001b[39m=\u001b[39m Imputer(missing_values \u001b[39m=\u001b[39m \u001b[39m'\u001b[39m\u001b[39mNaN\u001b[39m\u001b[39m'\u001b[39m,\n\u001b[0;32m      8\u001b[0m               strategy\u001b[39m=\u001b[39m\u001b[39m'\u001b[39m\u001b[39mmean\u001b[39m\u001b[39m'\u001b[39m, axis \u001b[39m=\u001b[39m \u001b[39m0\u001b[39m)\n",
      "\u001b[1;31mImportError\u001b[0m: cannot import name 'Imputer' from 'sklearn.preprocessing' (c:\\ProgramData\\anaconda3\\lib\\site-packages\\sklearn\\preprocessing\\__init__.py)"
     ]
    }
   ],
   "source": [
    "import pandas as pd\n",
    "import numpy as np\n",
    "from sklearn.preprocessing import Imputer\n",
    "\n",
    "s = [[1, 2, 3, np.NAN, 5, 6, None]]\n",
    "\n",
    "imp = Imputer(missing_values = 'NaN',\n",
    "              strategy='mean', axis = 0)\n",
    "\n",
    "imp.fit([[1, 2, 3, 4, 5, 6, 7]])\n",
    "\n",
    "x = pd.Series(imp.transform(s).tolist()[0])\n",
    "\n",
    "print(x)"
   ]
  }
 ],
 "metadata": {
  "kernelspec": {
   "display_name": "Python 3",
   "language": "python",
   "name": "python3"
  },
  "language_info": {
   "codemirror_mode": {
    "name": "ipython",
    "version": 3
   },
   "file_extension": ".py",
   "mimetype": "text/x-python",
   "name": "python",
   "nbconvert_exporter": "python",
   "pygments_lexer": "ipython3",
   "version": "3.10.9"
  }
 },
 "nbformat": 4,
 "nbformat_minor": 5
}
