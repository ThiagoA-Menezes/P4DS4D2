{
 "cells": [
  {
   "attachments": {},
   "cell_type": "markdown",
   "id": "55892b61",
   "metadata": {},
   "source": [
    "Estou colocando os exercícios que estou realizando através da leitura do Livro Python para leigos.\n",
    "\n",
    "Muitas vezes, vocês perceberão que eu estou repetindo a importação de bibliotecas, estou criando esse repositório dessa forma, imaginando uma consulta futura"
   ]
  },
  {
   "attachments": {},
   "cell_type": "markdown",
   "id": "af64e73c",
   "metadata": {},
   "source": [
    "# Criando Variáveis Categoricas"
   ]
  },
  {
   "cell_type": "code",
   "execution_count": null,
   "metadata": {},
   "outputs": [],
   "source": [
    "import pandas as pd\n",
    "\n",
    "car_colors = pd.Series(['Blue', 'Red', 'Green'], dtype = 'category')\n",
    "\n",
    "car_data = pd.Series (\n",
    "    pd.Categorical(\n",
    "        ['Yellow', 'Green', 'Red', 'Blue', 'Purple'], \n",
    "        categories=car_colors, ordered=False\n",
    "    )\n",
    ")\n",
    "\n",
    "find_entries = pd.isnull(car_data)\n",
    "\n",
    "print(car_colors)\n",
    "print('-'*50)\n",
    "print(car_data)\n",
    "print('-'*50)\n",
    "print(find_entries[find_entries == True])"
   ]
  },
  {
   "attachments": {},
   "cell_type": "markdown",
   "id": "7d5ae9b4",
   "metadata": {},
   "source": [
    "# Combinando Níveis"
   ]
  },
  {
   "cell_type": "code",
   "execution_count": null,
   "id": "d9ccb4ae",
   "metadata": {},
   "outputs": [],
   "source": [
    "import pandas as pd\n",
    "\n",
    "car_colors = pd.Series(['Blue', 'Red', 'Green'],\n",
    "                       dtype = 'category')\n",
    "\n",
    "car_data = pd.Series(\n",
    "    pd.Categorical(\n",
    "        ['Blue', 'Green', 'Red', 'Green', 'Red', 'Green'],\n",
    "        categories=car_colors, ordered=False\n",
    "    )\n",
    ")\n",
    "\n",
    "car_data = car_data.cat.set_categories([\"Blue\", \"Red\", \"Green\", \"Blue_Red\"])\n",
    "\n",
    "print(car_data.loc[car_data.isin([\"Red\"])])\n",
    "car_data.loc[car_data.isin(['Red'])] = 'Blue_Red'\n",
    "car_data.loc[car_data.isin(['Blue'])] = 'Blue_Red'\n",
    "\n",
    "car_data = car_data.cat.set_categories(\n",
    "    [\"Green\", \"Blue_Red\"]\n",
    ")\n",
    "\n",
    "print('-'*50)\n",
    "print(car_data)"
   ]
  },
  {
   "attachments": {},
   "cell_type": "markdown",
   "id": "c80d6c52",
   "metadata": {},
   "source": [
    "# Encontrando os dados Ausentes "
   ]
  },
  {
   "cell_type": "code",
   "execution_count": null,
   "id": "e9dbf072",
   "metadata": {},
   "outputs": [],
   "source": [
    "import pandas as pd\n",
    "import numpy as np\n",
    "\n",
    "s = pd.Series([1, 2, 3, np.NAN, 5, 6, None])\n",
    "\n",
    "print(s.isnull())\n",
    "\n",
    "print('-'*50)\n",
    "print(s[s.isnull()])"
   ]
  },
  {
   "attachments": {},
   "cell_type": "markdown",
   "id": "208b7265",
   "metadata": {},
   "source": [
    "# Inserindo os dados Ausentes"
   ]
  },
  {
   "cell_type": "code",
   "execution_count": 11,
   "id": "b7ceb0b9",
   "metadata": {},
   "outputs": [
    {
     "ename": "ImportError",
     "evalue": "cannot import name 'Imputer' from 'sklearn' (c:\\ProgramData\\anaconda3\\lib\\site-packages\\sklearn\\__init__.py)",
     "output_type": "error",
     "traceback": [
      "\u001b[1;31m---------------------------------------------------------------------------\u001b[0m",
      "\u001b[1;31mImportError\u001b[0m                               Traceback (most recent call last)",
      "Cell \u001b[1;32mIn[11], line 4\u001b[0m\n\u001b[0;32m      2\u001b[0m \u001b[39mimport\u001b[39;00m \u001b[39mnumpy\u001b[39;00m \u001b[39mas\u001b[39;00m \u001b[39mnp\u001b[39;00m\n\u001b[0;32m      3\u001b[0m \u001b[39m# explicitly require this experimental feature\u001b[39;00m\n\u001b[1;32m----> 4\u001b[0m \u001b[39mfrom\u001b[39;00m \u001b[39msklearn\u001b[39;00m \u001b[39mimport\u001b[39;00m Imputer\n\u001b[0;32m      6\u001b[0m s \u001b[39m=\u001b[39m [[\u001b[39m1\u001b[39m, \u001b[39m2\u001b[39m, \u001b[39m3\u001b[39m, np\u001b[39m.\u001b[39mNAN, \u001b[39m5\u001b[39m, \u001b[39m6\u001b[39m, \u001b[39mNone\u001b[39;00m]]\n\u001b[0;32m      8\u001b[0m imp \u001b[39m=\u001b[39m sklearn\u001b[39m.\u001b[39mimpute\u001b[39m.\u001b[39mSimpleImputer(missing_values \u001b[39m=\u001b[39m \u001b[39m'\u001b[39m\u001b[39mNaN\u001b[39m\u001b[39m'\u001b[39m,\n\u001b[0;32m      9\u001b[0m               strategy\u001b[39m=\u001b[39m\u001b[39m'\u001b[39m\u001b[39mmean\u001b[39m\u001b[39m'\u001b[39m, axis \u001b[39m=\u001b[39m \u001b[39m0\u001b[39m)\n",
      "\u001b[1;31mImportError\u001b[0m: cannot import name 'Imputer' from 'sklearn' (c:\\ProgramData\\anaconda3\\lib\\site-packages\\sklearn\\__init__.py)"
     ]
    }
   ],
   "source": [
    "import pandas as pd\n",
    "import numpy as np\n",
    "# Essa lib Imputer dp Sklearn foi descontinuada, procurei pela internet um substituto, mas ainda não encontrei.\n",
    "from sklearn.preprocessing import Imputer\n",
    "\n",
    "s = [[1, 2, 3, np.NAN, 5, 6, None]]\n",
    "\n",
    "imp = sklearn.impute.SimpleImputer(missing_values = 'NaN',\n",
    "              strategy='mean', axis = 0)\n",
    "\n",
    "imp.fit([[1, 2, 3, 4, 5, 6, 7]])\n",
    "\n",
    "x = pd.Series(imp.transform(s).tolist()[0])\n",
    "\n",
    "print(x)"
   ]
  },
  {
   "cell_type": "code",
   "execution_count": 1,
   "id": "0bb1a51d",
   "metadata": {},
   "outputs": [
    {
     "name": "stdout",
     "output_type": "stream",
     "text": [
      "   A  B  C\n",
      "0  2  1  5\n",
      "1  3  2  3\n",
      "2  1  3  4\n",
      "3  4  4  4\n",
      "--------------------------------------------------\n",
      "   A  B  C\n",
      "0  2  1  5\n",
      "1  3  2  3\n",
      "2  1  3  4\n",
      "3  4  4  4\n",
      "4  5  5  5\n",
      "--------------------------------------------------\n",
      "   A  B  C  D\n",
      "0  2  1  5  1\n",
      "1  3  2  3  2\n",
      "2  1  3  4  3\n",
      "3  4  4  4  4\n",
      "4  5  5  5  5\n"
     ]
    },
    {
     "name": "stderr",
     "output_type": "stream",
     "text": [
      "C:\\Users\\thiag\\AppData\\Local\\Temp\\ipykernel_33136\\3404367896.py:11: FutureWarning: The frame.append method is deprecated and will be removed from pandas in a future version. Use pandas.concat instead.\n",
      "  df = df.append(df1)\n"
     ]
    }
   ],
   "source": [
    "import pandas as pd\n",
    "\n",
    "df = pd.DataFrame({'A': [2,3,1],\n",
    "                   'B': [1,2,3],\n",
    "                   'C': [5,3,4]})\n",
    "\n",
    "df1 = pd.DataFrame({'A': [4],\n",
    "                    'B': [4],\n",
    "                    'C': [4]})\n",
    "\n",
    "df = df.append(df1)\n",
    "df = df.=(drop=True)\n",
    "print(df)\n",
    "\n",
    "df.loc[df.last_valid_index() + 1] = [5,5,5]\n",
    "print('-'*50)\n",
    "print(df)\n",
    "\n",
    "df2 = pd.DataFrame({'D': [1, 2, 3, 4, 5]})\n",
    "\n",
    "df = pd.DataFrame.join(df, df2)\n",
    "print('-'*50)\n",
    "print(df)"
   ]
  },
  {
   "cell_type": "code",
   "execution_count": 2,
   "id": "1fdeaba5",
   "metadata": {},
   "outputs": [
    {
     "name": "stdout",
     "output_type": "stream",
     "text": [
      "   A  B  C\n",
      "0  2  1  5\n",
      "2  1  3  4\n",
      "------------------------------\n",
      "------------------------------\n",
      "\n",
      "   A  C\n",
      "0  2  5\n",
      "2  1  4\n"
     ]
    },
    {
     "name": "stderr",
     "output_type": "stream",
     "text": [
      "C:\\Users\\thiag\\AppData\\Local\\Temp\\ipykernel_33136\\2998269716.py:11: FutureWarning: In a future version of pandas all arguments of DataFrame.drop except for the argument 'labels' will be keyword-only.\n",
      "  df = df.drop('B', 1)\n"
     ]
    }
   ],
   "source": [
    "import pandas as pd \n",
    "\n",
    "df = pd.DataFrame({'A': [2,3,1],\n",
    "                   'B': [1,2,3],\n",
    "                   'C': [5,3,4]})\n",
    "\n",
    "df = df.drop(df.index[[1]])\n",
    "print(df)\n",
    "print('-'*30)\n",
    "\n",
    "df = df.drop('B', 1)\n",
    "print('-'*30)\n",
    "print()\n",
    "print(df)"
   ]
  },
  {
   "cell_type": "code",
   "execution_count": 7,
   "id": "9ac09435",
   "metadata": {},
   "outputs": [
    {
     "name": "stdout",
     "output_type": "stream",
     "text": [
      "   A  B  C\n",
      "0  1  2  3\n",
      "1  2  1  5\n",
      "2  2  3  4\n",
      "3  3  4  1\n",
      "4  3  5  1\n",
      "5  4  5  3\n",
      "6  5  2  2\n",
      "------------------------------\n",
      "   A  B  C\n",
      "0  3  5  1\n",
      "1  2  1  5\n",
      "2  5  2  2\n",
      "3  3  4  1\n",
      "4  4  5  3\n",
      "5  2  3  4\n",
      "6  1  2  3\n"
     ]
    }
   ],
   "source": [
    "import pandas as pd \n",
    "import numpy as np\n",
    "\n",
    "df= pd.DataFrame({'A': [2,1,2,3,3,5,4],\n",
    "                  'B': [1,2,3,5,4,2,5],\n",
    "                  'C': [5,3,4,1,1,2,3]})\n",
    "\n",
    "df = df.sort_values(by=['A','B'], ascending=[True, True])\n",
    "df = df.reset_index(drop=True)\n",
    "print(df)\n",
    "\n",
    "index = df.index.tolist()\n",
    "np.random.shuffle(index)\n",
    "df = df.loc[df.index[index]]\n",
    "df = df.reset_index(drop=True)\n",
    "print('-'*30)\n",
    "print(df)"
   ]
  }
 ],
 "metadata": {
  "kernelspec": {
   "display_name": "Python 3",
   "language": "python",
   "name": "python3"
  },
  "language_info": {
   "codemirror_mode": {
    "name": "ipython",
    "version": 3
   },
   "file_extension": ".py",
   "mimetype": "text/x-python",
   "name": "python",
   "nbconvert_exporter": "python",
   "pygments_lexer": "ipython3",
   "version": "3.10.12"
  }
 },
 "nbformat": 4,
 "nbformat_minor": 5
}
