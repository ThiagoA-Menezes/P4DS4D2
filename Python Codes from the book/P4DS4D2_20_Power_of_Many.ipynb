{
 "cells": [
  {
   "cell_type": "code",
   "execution_count": 4,
   "metadata": {},
   "outputs": [
    {
     "name": "stdout",
     "output_type": "stream",
     "text": [
      "Accuracy: 0.968\n"
     ]
    }
   ],
   "source": [
    "from sklearn.datasets           import load_digits\n",
    "from sklearn.ensemble           import BaggingClassifier\n",
    "from sklearn.tree               import DecisionTreeClassifier\n",
    "from sklearn.model_selection    import cross_val_score\n",
    "from sklearn.model_selection    import KFold\n",
    "from sklearn.ensemble           import RandomForestClassifier\n",
    "\n",
    "import numpy                    as np\n",
    "\n",
    "digit = load_digits()\n",
    "\n",
    "X, y = digit.data, digit.target\n",
    "\n",
    "tree_classifier = DecisionTreeClassifier(random_state=0)\n",
    "crossvalidation = KFold(n_splits=5, shuffle=True,\n",
    "                        random_state=1)\n",
    "bagging = BaggingClassifier(tree_classifier, \n",
    "                            max_samples=0.7,\n",
    "                            max_features=0.7,\n",
    "                            n_estimators=300)\n",
    "\n",
    "scores = np.mean(cross_val_score(bagging, X, y,\n",
    "                                 scoring='accuracy',\n",
    "                                 cv=crossvalidation))\n",
    "\n",
    "print('Accuracy: %.3f' % scores)"
   ]
  },
  {
   "cell_type": "code",
   "execution_count": 5,
   "metadata": {},
   "outputs": [
    {
     "name": "stdout",
     "output_type": "stream",
     "text": [
      "Accuracy: 0.977\n"
     ]
    }
   ],
   "source": [
    "X, y = digit.data, digit.target\n",
    "\n",
    "crossvalidation = KFold(n_splits=5, shuffle=True,\n",
    "                        random_state=1)\n",
    "\n",
    "RF_cls = RandomForestClassifier(n_estimators=300,\n",
    "                                random_state=1)\n",
    "\n",
    "score = np.mean(cross_val_score(RF_cls, X, y, \n",
    "                                scoring='accuracy',\n",
    "                                cv=crossvalidation))\n",
    "\n",
    "print('Accuracy: %.3f' % score)"
   ]
  },
  {
   "cell_type": "code",
   "execution_count": 17,
   "metadata": {},
   "outputs": [
    {
     "data": {
      "image/png": "[encoded data removed]",
      "text/plain": [
       "<Figure size 640x480 with 1 Axes>"
      ]
     },
     "metadata": {},
     "output_type": "display_data"
    }
   ],
   "source": [
    "\"\"\" O livro indica que o 'n_estimators' pode ser acrescido sem passar a função, descobri que é necessário passar a função param_name\n",
    "\n",
    "\"\"\"\n",
    "from sklearn.model_selection import validation_curve\n",
    "param_range = [10, 50, 100, 200, 300, 500, 800, 1000, 1500]\n",
    "crossvalidation = KFold(n_splits=3, \n",
    "                        shuffle=True, \n",
    "                        random_state=1)\n",
    "\n",
    "RF_cls = RandomForestClassifier(n_estimators=300,\n",
    "                               random_state=0)\n",
    "\n",
    "train_scores, test_scores = validation_curve(RF_cls, X, y,\n",
    "                                  param_name='n_estimators', \n",
    "                                  param_range=param_range, \n",
    "                                  cv=crossvalidation, \n",
    "                                  scoring='accuracy')\n",
    "mean_test_scores = np.mean(test_scores, axis=1)\n",
    "\n",
    "import matplotlib.pyplot as plt\n",
    "%matplotlib inline\n",
    "plt.plot(param_range, mean_test_scores, \n",
    "         'bD-.', label='CV score')\n",
    "plt.grid()\n",
    "plt.xlabel('Number of estimators')\n",
    "plt.ylabel('accuracy')\n",
    "plt.legend(loc='lower right', numpoints= 1)\n",
    "plt.show()"
   ]
  },
  {
   "cell_type": "code",
   "execution_count": 13,
   "metadata": {},
   "outputs": [
    {
     "data": {
      "text/plain": [
       "(array([[ 0.,  0.,  5., ...,  0.,  0.,  0.],\n",
       "        [ 0.,  0.,  0., ..., 10.,  0.,  0.],\n",
       "        [ 0.,  0.,  0., ..., 16.,  9.,  0.],\n",
       "        ...,\n",
       "        [ 0.,  0.,  1., ...,  6.,  0.,  0.],\n",
       "        [ 0.,  0.,  2., ..., 12.,  0.,  0.],\n",
       "        [ 0.,  0., 10., ..., 12.,  1.,  0.]]),\n",
       " array([0, 1, 2, ..., 8, 9, 8]),\n",
       " array([[ 0.,  0.,  5., ...,  0.,  0.,  0.],\n",
       "        [ 0.,  0.,  0., ..., 10.,  0.,  0.],\n",
       "        [ 0.,  0.,  0., ..., 16.,  9.,  0.],\n",
       "        ...,\n",
       "        [ 0.,  0.,  1., ...,  6.,  0.,  0.],\n",
       "        [ 0.,  0.,  2., ..., 12.,  0.,  0.],\n",
       "        [ 0.,  0., 10., ..., 12.,  1.,  0.]]),\n",
       " array([0, 1, 2, ..., 8, 9, 8]))"
      ]
     },
     "execution_count": 13,
     "metadata": {},
     "output_type": "execute_result"
    }
   ],
   "source": [
    "X, y, digit.data, digit.target"
   ]
  },
  {
   "cell_type": "code",
   "execution_count": 18,
   "metadata": {},
   "outputs": [
    {
     "name": "stdout",
     "output_type": "stream",
     "text": [
      "Accuracy: 0.754\n"
     ]
    }
   ],
   "source": [
    "from sklearn.ensemble           import AdaBoostClassifier\n",
    "from sklearn.model_selection    import cross_val_score\n",
    "from sklearn.model_selection    import KFold\n",
    "\n",
    "ada = AdaBoostClassifier(n_estimators=1000, \n",
    "                         learning_rate=0.01,\n",
    "                         random_state=1)\n",
    "\n",
    "crossvalidation = KFold(n_splits=5, shuffle=True,\n",
    "                        random_state=1)\n",
    "\n",
    "score = np.mean(cross_val_score(ada, X, y,\n",
    "                                scoring='accuracy',\n",
    "                                cv=crossvalidation))\n",
    "#n_jobs = -1 #usa todos os cores da máquina para uma execução paralelisada. Mas não sei se é assim que se declara.\n",
    "print('Accuracy: %.3f' % score)"
   ]
  }
 ],
 "metadata": {
  "kernelspec": {
   "display_name": "Python 3",
   "language": "python",
   "name": "python3"
  },
  "language_info": {
   "codemirror_mode": {
    "name": "ipython",
    "version": 3
   },
   "file_extension": ".py",
   "mimetype": "text/x-python",
   "name": "python",
   "nbconvert_exporter": "python",
   "pygments_lexer": "ipython3",
   "version": "3.10.11"
  },
  "orig_nbformat": 4
 },
 "nbformat": 4,
 "nbformat_minor": 2
}
