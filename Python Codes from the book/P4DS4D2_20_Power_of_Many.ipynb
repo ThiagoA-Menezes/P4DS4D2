{
 "cells": [
  {
   "cell_type": "code",
   "execution_count": 4,
   "metadata": {},
   "outputs": [
    {
     "name": "stdout",
     "output_type": "stream",
     "text": [
      "Accuracy: 0.968\n"
     ]
    }
   ],
   "source": [
    "from sklearn.datasets           import load_digits\n",
    "from sklearn.ensemble           import BaggingClassifier\n",
    "from sklearn.tree               import DecisionTreeClassifier\n",
    "from sklearn.model_selection    import cross_val_score\n",
    "from sklearn.model_selection    import KFold\n",
    "from sklearn.ensemble           import RandomForestClassifier\n",
    "\n",
    "import numpy                    as np\n",
    "\n",
    "digit = load_digits()\n",
    "\n",
    "X, y = digit.data, digit.target\n",
    "\n",
    "tree_classifier = DecisionTreeClassifier(random_state=0)\n",
    "crossvalidation = KFold(n_splits=5, shuffle=True,\n",
    "                        random_state=1)\n",
    "bagging = BaggingClassifier(tree_classifier, \n",
    "                            max_samples=0.7,\n",
    "                            max_features=0.7,\n",
    "                            n_estimators=300)\n",
    "\n",
    "scores = np.mean(cross_val_score(bagging, X, y,\n",
    "                                 scoring='accuracy',\n",
    "                                 cv=crossvalidation))\n",
    "\n",
    "print('Accuracy: %.3f' % scores)"
   ]
  },
  {
   "cell_type": "code",
   "execution_count": 5,
   "metadata": {},
   "outputs": [
    {
     "name": "stdout",
     "output_type": "stream",
     "text": [
      "Accuracy: 0.977\n"
     ]
    }
   ],
   "source": [
    "X, y = digit.data, digit.target\n",
    "\n",
    "crossvalidation = KFold(n_splits=5, shuffle=True,\n",
    "                        random_state=1)\n",
    "\n",
    "RF_cls = RandomForestClassifier(n_estimators=300,\n",
    "                                random_state=1)\n",
    "\n",
    "score = np.mean(cross_val_score(RF_cls, X, y, \n",
    "                                scoring='accuracy',\n",
    "                                cv=crossvalidation))\n",
    "\n",
    "print('Accuracy: %.3f' % score)"
   ]
  },
  {
   "cell_type": "code",
   "execution_count": 12,
   "metadata": {},
   "outputs": [
    {
     "ename": "TypeError",
     "evalue": "too many positional arguments",
     "output_type": "error",
     "traceback": [
      "\u001b[1;31m---------------------------------------------------------------------------\u001b[0m",
      "\u001b[1;31mTypeError\u001b[0m                                 Traceback (most recent call last)",
      "Cell \u001b[1;32mIn[12], line 8\u001b[0m\n\u001b[0;32m      3\u001b[0m crossvalidation \u001b[39m=\u001b[39m KFold(n_splits\u001b[39m=\u001b[39m\u001b[39m3\u001b[39m, \n\u001b[0;32m      4\u001b[0m                         shuffle\u001b[39m=\u001b[39m\u001b[39mTrue\u001b[39;00m, \n\u001b[0;32m      5\u001b[0m                         random_state\u001b[39m=\u001b[39m\u001b[39m1\u001b[39m)\n\u001b[0;32m      6\u001b[0m RF_cls \u001b[39m=\u001b[39m RandomForestClassifier(n_estimators\u001b[39m=\u001b[39m\u001b[39m300\u001b[39m,\n\u001b[0;32m      7\u001b[0m                                random_state\u001b[39m=\u001b[39m\u001b[39m0\u001b[39m)\n\u001b[1;32m----> 8\u001b[0m train_scores, test_scores \u001b[39m=\u001b[39m validation_curve(RF_cls, X, y,\n\u001b[0;32m      9\u001b[0m                                   \u001b[39m'\u001b[39;49m\u001b[39mn_estimators\u001b[39;49m\u001b[39m'\u001b[39;49m, \n\u001b[0;32m     10\u001b[0m                                   param_range\u001b[39m=\u001b[39;49mparam_range, \n\u001b[0;32m     11\u001b[0m                                   cv\u001b[39m=\u001b[39;49mcrossvalidation, \n\u001b[0;32m     12\u001b[0m                                   scoring\u001b[39m=\u001b[39;49m\u001b[39m'\u001b[39;49m\u001b[39maccuracy\u001b[39;49m\u001b[39m'\u001b[39;49m)\n\u001b[0;32m     13\u001b[0m mean_test_scores \u001b[39m=\u001b[39m np\u001b[39m.\u001b[39mmean(test_scores, axis\u001b[39m=\u001b[39m\u001b[39m1\u001b[39m)\n\u001b[0;32m     15\u001b[0m \u001b[39mimport\u001b[39;00m \u001b[39mmatplotlib\u001b[39;00m\u001b[39m.\u001b[39;00m\u001b[39mpyplot\u001b[39;00m \u001b[39mas\u001b[39;00m \u001b[39mplt\u001b[39;00m\n",
      "File \u001b[1;32m~\\AppData\\Local\\Packages\\PythonSoftwareFoundation.Python.3.10_qbz5n2kfra8p0\\LocalCache\\local-packages\\Python310\\site-packages\\sklearn\\utils\\_param_validation.py:189\u001b[0m, in \u001b[0;36mvalidate_params.<locals>.decorator.<locals>.wrapper\u001b[1;34m(*args, **kwargs)\u001b[0m\n\u001b[0;32m    186\u001b[0m func_sig \u001b[39m=\u001b[39m signature(func)\n\u001b[0;32m    188\u001b[0m \u001b[39m# Map *args/**kwargs to the function signature\u001b[39;00m\n\u001b[1;32m--> 189\u001b[0m params \u001b[39m=\u001b[39m func_sig\u001b[39m.\u001b[39mbind(\u001b[39m*\u001b[39margs, \u001b[39m*\u001b[39m\u001b[39m*\u001b[39mkwargs)\n\u001b[0;32m    190\u001b[0m params\u001b[39m.\u001b[39mapply_defaults()\n\u001b[0;32m    192\u001b[0m \u001b[39m# ignore self/cls and positional/keyword markers\u001b[39;00m\n",
      "File \u001b[1;32mC:\\Program Files\\WindowsApps\\PythonSoftwareFoundation.Python.3.10_3.10.3056.0_x64__qbz5n2kfra8p0\\lib\\inspect.py:3186\u001b[0m, in \u001b[0;36mSignature.bind\u001b[1;34m(self, *args, **kwargs)\u001b[0m\n\u001b[0;32m   3181\u001b[0m \u001b[39mdef\u001b[39;00m \u001b[39mbind\u001b[39m(\u001b[39mself\u001b[39m, \u001b[39m/\u001b[39m, \u001b[39m*\u001b[39margs, \u001b[39m*\u001b[39m\u001b[39m*\u001b[39mkwargs):\n\u001b[0;32m   3182\u001b[0m \u001b[39m    \u001b[39m\u001b[39m\"\"\"Get a BoundArguments object, that maps the passed `args`\u001b[39;00m\n\u001b[0;32m   3183\u001b[0m \u001b[39m    and `kwargs` to the function's signature.  Raises `TypeError`\u001b[39;00m\n\u001b[0;32m   3184\u001b[0m \u001b[39m    if the passed arguments can not be bound.\u001b[39;00m\n\u001b[0;32m   3185\u001b[0m \u001b[39m    \"\"\"\u001b[39;00m\n\u001b[1;32m-> 3186\u001b[0m     \u001b[39mreturn\u001b[39;00m \u001b[39mself\u001b[39;49m\u001b[39m.\u001b[39;49m_bind(args, kwargs)\n",
      "File \u001b[1;32mC:\\Program Files\\WindowsApps\\PythonSoftwareFoundation.Python.3.10_3.10.3056.0_x64__qbz5n2kfra8p0\\lib\\inspect.py:3112\u001b[0m, in \u001b[0;36mSignature._bind\u001b[1;34m(self, args, kwargs, partial)\u001b[0m\n\u001b[0;32m   3108\u001b[0m \u001b[39melse\u001b[39;00m:\n\u001b[0;32m   3109\u001b[0m     \u001b[39mif\u001b[39;00m param\u001b[39m.\u001b[39mkind \u001b[39min\u001b[39;00m (_VAR_KEYWORD, _KEYWORD_ONLY):\n\u001b[0;32m   3110\u001b[0m         \u001b[39m# Looks like we have no parameter for this positional\u001b[39;00m\n\u001b[0;32m   3111\u001b[0m         \u001b[39m# argument\u001b[39;00m\n\u001b[1;32m-> 3112\u001b[0m         \u001b[39mraise\u001b[39;00m \u001b[39mTypeError\u001b[39;00m(\n\u001b[0;32m   3113\u001b[0m             \u001b[39m'\u001b[39m\u001b[39mtoo many positional arguments\u001b[39m\u001b[39m'\u001b[39m) \u001b[39mfrom\u001b[39;00m \u001b[39mNone\u001b[39;00m\n\u001b[0;32m   3115\u001b[0m     \u001b[39mif\u001b[39;00m param\u001b[39m.\u001b[39mkind \u001b[39m==\u001b[39m _VAR_POSITIONAL:\n\u001b[0;32m   3116\u001b[0m         \u001b[39m# We have an '*args'-like argument, let's fill it with\u001b[39;00m\n\u001b[0;32m   3117\u001b[0m         \u001b[39m# all positional arguments we have left and move on to\u001b[39;00m\n\u001b[0;32m   3118\u001b[0m         \u001b[39m# the next phase\u001b[39;00m\n\u001b[0;32m   3119\u001b[0m         values \u001b[39m=\u001b[39m [arg_val]\n",
      "\u001b[1;31mTypeError\u001b[0m: too many positional arguments"
     ]
    }
   ],
   "source": [
    "from sklearn.model_selection import validation_curve\n",
    "param_range = [10, 50, 100, 200, 300, 500, 800, 1000, 1500]\n",
    "crossvalidation = KFold(n_splits=3, \n",
    "                        shuffle=True, \n",
    "                        random_state=1)\n",
    "RF_cls = RandomForestClassifier(n_estimators=300,\n",
    "                               random_state=0)\n",
    "train_scores, test_scores = validation_curve(RF_cls, X, y,\n",
    "                                  'n_estimators', \n",
    "                                  param_range=param_range, \n",
    "                                  cv=crossvalidation, \n",
    "                                  scoring='accuracy')\n",
    "mean_test_scores = np.mean(test_scores, axis=1)\n",
    "\n",
    "import matplotlib.pyplot as plt\n",
    "%matplotlib inline\n",
    "plt.plot(param_range, mean_test_scores, \n",
    "         'bD-.', label='CV score')\n",
    "plt.grid()\n",
    "plt.xlabel('Number of estimators')\n",
    "plt.ylabel('accuracy')\n",
    "plt.legend(loc='lower right', numpoints= 1)\n",
    "plt.show()"
   ]
  },
  {
   "cell_type": "code",
   "execution_count": 13,
   "metadata": {},
   "outputs": [
    {
     "data": {
      "text/plain": [
       "(array([[ 0.,  0.,  5., ...,  0.,  0.,  0.],\n",
       "        [ 0.,  0.,  0., ..., 10.,  0.,  0.],\n",
       "        [ 0.,  0.,  0., ..., 16.,  9.,  0.],\n",
       "        ...,\n",
       "        [ 0.,  0.,  1., ...,  6.,  0.,  0.],\n",
       "        [ 0.,  0.,  2., ..., 12.,  0.,  0.],\n",
       "        [ 0.,  0., 10., ..., 12.,  1.,  0.]]),\n",
       " array([0, 1, 2, ..., 8, 9, 8]),\n",
       " array([[ 0.,  0.,  5., ...,  0.,  0.,  0.],\n",
       "        [ 0.,  0.,  0., ..., 10.,  0.,  0.],\n",
       "        [ 0.,  0.,  0., ..., 16.,  9.,  0.],\n",
       "        ...,\n",
       "        [ 0.,  0.,  1., ...,  6.,  0.,  0.],\n",
       "        [ 0.,  0.,  2., ..., 12.,  0.,  0.],\n",
       "        [ 0.,  0., 10., ..., 12.,  1.,  0.]]),\n",
       " array([0, 1, 2, ..., 8, 9, 8]))"
      ]
     },
     "execution_count": 13,
     "metadata": {},
     "output_type": "execute_result"
    }
   ],
   "source": [
    "X, y, digit.data, digit.target"
   ]
  },
  {
   "cell_type": "code",
   "execution_count": 15,
   "metadata": {},
   "outputs": [
    {
     "name": "stdout",
     "output_type": "stream",
     "text": [
      "Accuracy: 0.754\n"
     ]
    }
   ],
   "source": [
    "from sklearn.ensemble           import AdaBoostClassifier\n",
    "from sklearn.model_selection    import cross_val_score\n",
    "from sklearn.model_selection    import KFold\n",
    "\n",
    "ada = AdaBoostClassifier(n_estimators=1000, \n",
    "                         learning_rate=0.01,\n",
    "                         random_state=1)\n",
    "\n",
    "crossvalidation = KFold(n_splits=5, shuffle=True,\n",
    "                        random_state=1)\n",
    "\n",
    "score = np.mean(cross_val_score(ada, X, y,\n",
    "                                scoring='accuracy',\n",
    "                                cv=crossvalidation))\n",
    "\n",
    "print('Accuracy: %.3f' % score)"
   ]
  }
 ],
 "metadata": {
  "kernelspec": {
   "display_name": "Python 3",
   "language": "python",
   "name": "python3"
  },
  "language_info": {
   "codemirror_mode": {
    "name": "ipython",
    "version": 3
   },
   "file_extension": ".py",
   "mimetype": "text/x-python",
   "name": "python",
   "nbconvert_exporter": "python",
   "pygments_lexer": "ipython3",
   "version": "3.10.11"
  },
  "orig_nbformat": 4
 },
 "nbformat": 4,
 "nbformat_minor": 2
}
