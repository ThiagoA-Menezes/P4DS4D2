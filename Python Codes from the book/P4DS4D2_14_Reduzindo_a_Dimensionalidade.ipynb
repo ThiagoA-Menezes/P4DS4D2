{
 "cells": [
  {
   "cell_type": "code",
   "execution_count": 1,
   "metadata": {},
   "outputs": [
    {
     "name": "stdout",
     "output_type": "stream",
     "text": [
      "[[1 3 4]\n",
      " [2 3 5]\n",
      " [1 2 3]\n",
      " [5 4 6]]\n"
     ]
    }
   ],
   "source": [
    "import numpy as np\n",
    "A = np.array([[1,3,4], [2,3,5],[1,2,3],[5,4,6]])\n",
    "print(A)"
   ]
  },
  {
   "cell_type": "code",
   "execution_count": 2,
   "metadata": {},
   "outputs": [
    {
     "name": "stdout",
     "output_type": "stream",
     "text": [
      "(4, 3) (3,) (3, 3)\n",
      "[12.26362747  2.11085464  0.38436189]\n"
     ]
    }
   ],
   "source": [
    "U, s, Vh = np.linalg.svd(A, full_matrices=False)\n",
    "print(np.shape(U), np.shape(s), np.shape(Vh))\n",
    "print(s)"
   ]
  },
  {
   "cell_type": "markdown",
   "metadata": {},
   "source": [
    "## Aplicando a validação do SVD em um conjunto de dados, SVD é um conceito de algebra linear chamada de Decomposição de Valores Singulares\n",
    "\n",
    "## Quando trabalhamos com SVD, de modo geral nos preocupamos com a matriz U resultante, a matriz que representa as linhas, pois é uma substituição do conjunto de dados inicial"
   ]
  },
  {
   "cell_type": "code",
   "execution_count": 9,
   "metadata": {},
   "outputs": [
    {
     "name": "stdout",
     "output_type": "stream",
     "text": [
      "0.8309341481020968\n"
     ]
    }
   ],
   "source": [
    "validando = s[0] / 14.758844\n",
    "print(validando)"
   ]
  },
  {
   "cell_type": "code",
   "execution_count": 10,
   "metadata": {},
   "outputs": [
    {
     "name": "stdout",
     "output_type": "stream",
     "text": [
      "[[1. 3. 4.]\n",
      " [2. 3. 5.]\n",
      " [1. 2. 3.]\n",
      " [5. 4. 6.]]\n"
     ]
    }
   ],
   "source": [
    "## Reconstruindo a matriz completamente:\n",
    "print(np.dot(np.dot(U, np.diag(s)), Vh))"
   ]
  },
  {
   "cell_type": "code",
   "execution_count": 13,
   "metadata": {},
   "outputs": [
    {
     "name": "stdout",
     "output_type": "stream",
     "text": [
      "[[1.  2.8 4.1]\n",
      " [2.  3.2 4.8]\n",
      " [1.  2.  3. ]\n",
      " [5.  3.9 6. ]]\n"
     ]
    }
   ],
   "source": [
    "# Reduzindo a ultima coluna para descobrir o que acontece com a matriz\n",
    "\n",
    "print( np.round(np.dot(np.dot(U[:,:2], np.diag(s[:2])),\n",
    "                      Vh[:2,:]),1)) # k=2 reconstruction"
   ]
  },
  {
   "cell_type": "code",
   "execution_count": 14,
   "metadata": {},
   "outputs": [
    {
     "name": "stdout",
     "output_type": "stream",
     "text": [
      "[[2.1 2.5 3.7]\n",
      " [2.6 3.1 4.6]\n",
      " [1.6 1.8 2.8]\n",
      " [3.7 4.3 6.5]]\n"
     ]
    }
   ],
   "source": [
    "print(np.round(np.dot(np.dot(U[:,:1], np.diag(s[:1])), Vh[:1,:]),1)) #k=1 reconmstruction"
   ]
  },
  {
   "cell_type": "code",
   "execution_count": 16,
   "metadata": {},
   "outputs": [],
   "source": [
    "from sklearn.datasets import load_iris\n",
    "from sklearn.decomposition import FactorAnalysis\n",
    "\n",
    "iris = load_iris()\n",
    "\n",
    "X = iris.data\n",
    "Y = iris.target\n",
    "cols = [s[:12].strip() for s in iris.feature_names]\n",
    "factor = FactorAnalysis(n_components=4).fit(X)"
   ]
  },
  {
   "cell_type": "code",
   "execution_count": 19,
   "metadata": {},
   "outputs": [
    {
     "name": "stdout",
     "output_type": "stream",
     "text": [
      "   sepal length  sepal width  petal length  petal width\n",
      "0      0.706989    -0.158005      1.654236      0.70085\n",
      "1      0.115161     0.159635     -0.044321     -0.01403\n",
      "2     -0.000000     0.000000      0.000000      0.00000\n",
      "3     -0.000000     0.000000      0.000000     -0.00000\n"
     ]
    }
   ],
   "source": [
    "import pandas as pd\n",
    "print(pd.DataFrame(factor.components_, columns=cols))"
   ]
  },
  {
   "cell_type": "code",
   "execution_count": 20,
   "metadata": {},
   "outputs": [],
   "source": [
    "from sklearn.datasets import load_digits\n",
    "digits = load_digits()\n",
    "X = digits.data\n",
    "ground_rush = digits.target"
   ]
  },
  {
   "cell_type": "code",
   "execution_count": 21,
   "metadata": {},
   "outputs": [],
   "source": [
    "from sklearn.manifold import TSNE\n",
    "tsne = TSNE(n_components=2,\n",
    "            init='pca',\n",
    "            random_state=0,\n",
    "            perplexity=50,\n",
    "            early_exaggeration=25,\n",
    "            n_iter=300)\n",
    "\n",
    "Tx = tsne.fit_transform(X)"
   ]
  },
  {
   "cell_type": "code",
   "execution_count": 24,
   "metadata": {},
   "outputs": [
    {
     "ename": "NameError",
     "evalue": "name 'ground_truth' is not defined",
     "output_type": "error",
     "traceback": [
      "\u001b[1;31m---------------------------------------------------------------------------\u001b[0m",
      "\u001b[1;31mNameError\u001b[0m                                 Traceback (most recent call last)",
      "Cell \u001b[1;32mIn[24], line 6\u001b[0m\n\u001b[0;32m      4\u001b[0m plt\u001b[39m.\u001b[39mxticks([], [])\n\u001b[0;32m      5\u001b[0m plt\u001b[39m.\u001b[39myticks([], [])\n\u001b[1;32m----> 6\u001b[0m \u001b[39mfor\u001b[39;00m target \u001b[39min\u001b[39;00m np\u001b[39m.\u001b[39munique(ground_truth):\n\u001b[0;32m      7\u001b[0m     selection \u001b[39m=\u001b[39m ground_truth\u001b[39m==\u001b[39mtarget\n\u001b[0;32m      8\u001b[0m     X1, X2 \u001b[39m=\u001b[39m Tx[selection, \u001b[39m0\u001b[39m], Tx[selection, \u001b[39m1\u001b[39m]\n",
      "\u001b[1;31mNameError\u001b[0m: name 'ground_truth' is not defined"
     ]
    },
    {
     "data": {
      "image/png": "[encoded data removed]",
      "text/plain": [
       "<Figure size 640x480 with 1 Axes>"
      ]
     },
     "metadata": {},
     "output_type": "display_data"
    }
   ],
   "source": [
    "import numpy as np\n",
    "import matplotlib.pyplot as plt\n",
    "%matplotlib inline\n",
    "plt.xticks([], [])\n",
    "plt.yticks([], [])\n",
    "for target in np.unique(ground_truth):\n",
    "    selection = ground_truth==target\n",
    "    X1, X2 = Tx[selection, 0], Tx[selection, 1]\n",
    "    c1, c2 = np.median(X1), np.median(X2)\n",
    "    plt.plot(X1, X2, 'o', ms=5)\n",
    "    plt.text(c1, c2, target, fontsize=18)"
   ]
  }
 ],
 "metadata": {
  "kernelspec": {
   "display_name": "Python 3",
   "language": "python",
   "name": "python3"
  },
  "language_info": {
   "codemirror_mode": {
    "name": "ipython",
    "version": 3
   },
   "file_extension": ".py",
   "mimetype": "text/x-python",
   "name": "python",
   "nbconvert_exporter": "python",
   "pygments_lexer": "ipython3",
   "version": "3.10.11"
  },
  "orig_nbformat": 4
 },
 "nbformat": 4,
 "nbformat_minor": 2
}
